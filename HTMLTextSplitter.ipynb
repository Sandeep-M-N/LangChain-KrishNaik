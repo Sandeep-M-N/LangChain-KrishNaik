{
 "cells": [
  {
   "cell_type": "markdown",
   "metadata": {},
   "source": [
    "## How to split by htmnl header \n",
    "\n",
    "#### HTML header text splitter is a \"structure-aware\" chunker that splits text at the html element level and adds metadata for each header \"relevant\" to any given chunk . it can return chunks element by element or combine  elements eith the same metadata, with objectives of (a)keeping related text grouped(more or less) semantically and (b) preserving context-rich information encoded in document structures.It can be used with other text splitters as part of a chunking pipeline"
   ]
  },
  {
   "cell_type": "markdown",
   "metadata": {},
   "source": []
  }
 ],
 "metadata": {
  "language_info": {
   "name": "python"
  }
 },
 "nbformat": 4,
 "nbformat_minor": 2
}
