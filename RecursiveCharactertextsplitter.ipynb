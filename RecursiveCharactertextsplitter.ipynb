{
 "cells": [
  {
   "cell_type": "markdown",
   "metadata": {},
   "source": [
    "## Text splitting\n",
    "\n",
    "### this text splitter is the recommended one for generic text. it is parameterized by a list of characters. It tries to split on them in order until the chunks are small enough. The default list is [\"\\n\\n\",\"\\n\",\"\",\"\"]. This has the effect of trying to keep all paragraphs together as long as possible, as those would generically seem to be the strongest semantically, related pieces of text.\n",
    "\n",
    "- How the text is split:by list of characters\n",
    "- How the chunk size is measured: by number of characters"
   ]
  },
  {
   "cell_type": "code",
   "execution_count": 3,
   "metadata": {},
   "outputs": [
    {
     "name": "stderr",
     "output_type": "stream",
     "text": [
      "Ignoring wrong pointing object 18 0 (offset 0)\n",
      "Ignoring wrong pointing object 20 0 (offset 0)\n",
      "Ignoring wrong pointing object 22 0 (offset 0)\n",
      "Ignoring wrong pointing object 24 0 (offset 0)\n",
      "Ignoring wrong pointing object 26 0 (offset 0)\n",
      "Ignoring wrong pointing object 55 0 (offset 0)\n",
      "Ignoring wrong pointing object 64 0 (offset 0)\n",
      "Ignoring wrong pointing object 137 0 (offset 0)\n",
      "Ignoring wrong pointing object 177 0 (offset 0)\n",
      "Ignoring wrong pointing object 179 0 (offset 0)\n",
      "Ignoring wrong pointing object 181 0 (offset 0)\n",
      "Ignoring wrong pointing object 202 0 (offset 0)\n",
      "Ignoring wrong pointing object 287 0 (offset 0)\n",
      "Ignoring wrong pointing object 289 0 (offset 0)\n",
      "Ignoring wrong pointing object 311 0 (offset 0)\n",
      "Ignoring wrong pointing object 313 0 (offset 0)\n",
      "Ignoring wrong pointing object 315 0 (offset 0)\n",
      "Ignoring wrong pointing object 391 0 (offset 0)\n",
      "Ignoring wrong pointing object 412 0 (offset 0)\n"
     ]
    },
    {
     "data": {
      "text/plain": [
       "[Document(metadata={'source': 'Covid19.pdf', 'page': 0}, page_content=\"The picture can't be \\ndisplayed.\\nThe picture can't \\nbe displayed.\\nWhat is COVID-19•COVID-19 is the infectious disease caused by the most recently discovered coronavirus1\\n•This new virus and disease were unknown before the outbreak began in Wuhan, China, in December 2019•COVID-19 is now a pandemic affecting many countries globally\\n1https://www.who.int/emergencies/diseases/novel-coronavirus-2019/question-and-answers-hub/q-a-detail/q-a-coronaviruses\"),\n",
       " Document(metadata={'source': 'Covid19.pdf', 'page': 1}, page_content=\"The picture can't be \\ndisplayed.\\nThe picture can't \\nbe displayed.\\nImmunityPersonal measures \\nDisease specificationsTesting \\nTransmissionRisk groups Treatment Social & economicimpact\\nContents\\nThe \\npictur\\ne \\ncan't \\nbe \\ndispla\\nyed.\\nThe \\npict\\nure \\ncan'\\nt be \\ndisp\\nlaye\\nd.\\nThe \\npict\\nure \\ncan'\\nt be \\ndisp\\nlaye\\nd.\\nThe \\npict\\nure \\ncan'\\nt be \\ndisp\\nlaye\\nd.\\nTh\\ne \\npic\\ntur\\ne \\nca\\nn't \\nbe \\ndis\\npl\\nay\\ned\\n.\\nThe \\npictu\\nre \\ncan't \\nbe \\ndispl\\nayed\\n.\\nThe \\npictu\\nre \\ncan't \\nbe \\ndispl\\nayed\\n.\\nThe \\npict\\nure \\ncan'\\nt be \\ndisp\\nlaye\\nd.\\nThe \\npict\\nure \\ncan'\\nt be \\ndisp\\nlaye\\nd.\\nSuper Spreading EventsOrigin of the virus \\nSymptoms Public health measures \\nTh\\ne \\npi\\nct\\nur\\ne \\nca\\nn't \\nbe \\ndi\\nsp\\nla\\nye\\nd.\"),\n",
       " Document(metadata={'source': 'Covid19.pdf', 'page': 2}, page_content=\"The picture can't be \\ndisplayed.\\nThe picture can't \\nbe displayed.\\nOrigin of the virus\\nThe source is most likely a virus spillover from an intermediary animal host into human populations[2]\\nThe first known human case had onset of symptoms from 1st December and has not been linked to the suspected market in Wuhan, China. Cases may have occurred as far back as mid-November or earlier. \\nEnvironmental samples taken in the market were positive for the virus, concentrated in the area where wild and farmed animal trade was present\\nThe market could be the origin of the virus or played a role as an amplifying setting for the initial spread\\n2https://doi.org/10.1016/S0140-6736(20)30251-8\\nOrigin of the virus: 1/1\"),\n",
       " Document(metadata={'source': 'Covid19.pdf', 'page': 3}, page_content=\"The picture can't be \\ndisplayed.\\nThe picture can't \\nbe displayed.\\nSymptoms \\nSymptoms: 1/1\"),\n",
       " Document(metadata={'source': 'Covid19.pdf', 'page': 4}, page_content=\"The picture can't be \\ndisplayed.\\nThe picture can't \\nbe displayed.\\nTransmission \\nTransmission: 1/2\\nCOVID-19 is spread primarily from person to person through small droplets from the nose or mouth, expelled when a person with COVID-19 coughs or sneezes. People can catch COVID-19 if they breathe in these droplets, or by touching objects or surfaces where the droplets have landed, then their face. \\nThe time between infection and first symptoms (incubation period) ranges from 1 to 14 days, with an average of 5 to 6 days. More than 97% of people experience symptoms within 14 days. \\nSource:ID card\\n\"),\n",
       " Document(metadata={'source': 'Covid19.pdf', 'page': 5}, page_content=\"The picture can't be \\ndisplayed.\\nThe picture can't \\nbe displayed.\\nTransmission\\nTransmission: 2/2\\nActive viral replication occurs in the upper respiratory tract and lungs. Early studies indicate that the virus replicates in the gastrointestinal tract but faecal-oral transmission has not been confirmed \\nPeak viral shedding seems to occur at the time of symptom onset and declines thereafter\\nPre-symptomatic transmission is likely to occur. However, the absence of a cough (a key mechanism for viral expulsion) may limit transmission.Source:ID card\\nViral shedding\\n\"),\n",
       " Document(metadata={'source': 'Covid19.pdf', 'page': 6}, page_content=\"The picture can't be \\ndisplayed.\\nThe picture can't \\nbe displayed.\\nSuper-spreading events\\nMass-gatherings\\nAgeing population\\nDisplaced populations\\nInternational exposure\\nDensity of urban areas\\nWeak public health systems\\nLack of government transparency\\nLack of press freedom\\nSuper-spreading events occur with a single person transmits the virus to an unusually large number of people. Aggravating situations that may contribute to a super-spreading event include:\\nSuper-spreading events:1/1\"),\n",
       " Document(metadata={'source': 'Covid19.pdf', 'page': 7}, page_content=\"The picture can't be \\ndisplayed.\\nThe picture can't \\nbe displayed.\\nDisease specifications: reproductive rate, severity\\nBasic Reproductive Rate (R0) is the averagenumber of people infected by one personin a susceptible population. R0 for COVID-19 is estimated to be between 2 and 4 \\nClinical Onset Interval is the time between onset of symptomsin successive cases in a chain of transmission.  In most studies, the average time is between 4 and 5 days\\nCase Fatality Ratio (CFR)is the proportion of episodes of illness that are fatal. The global crude CFR is 7% (Dec 2019-May 2020)\\nSource:ID card \\nDisease specifications: 1/1\"),\n",
       " Document(metadata={'source': 'Covid19.pdf', 'page': 8}, page_content=\"The picture can't be \\ndisplayed.\\nThe picture can't \\nbe displayed.\\nRisk groups\\nRisk of severe disease increases with ageand in those with underlying medical conditionssuch as hypertension, diabetes, cardiovascular disease, chronic respiratory disease & cancer\\nContact studies indicate children and young adultsdo become infected, andcan transmit infection. However, children rarely progress to serious illness\\nLOW RISKHIGH RISK\\nRisk groups: 1/1\"),\n",
       " Document(metadata={'source': 'Covid19.pdf', 'page': 9}, page_content=\"The picture can't be \\ndisplayed.\\nThe picture can't \\nbe displayed.\\nImmunityShort-term: \\nAntibodies to COVID-19 (both IgG and IgM) appear 6 to 12 days after symptom onset, after which there is a slow, steady decline in viral load \\nPatients may still be infectious after they improve clinically. This has implications for infection, prevention and control in healthcare facilities and hospital discharges. Some patients may require further home isolation after being disharched from hospital.Long-term: \\nCurrently, there is not enough evidence about the effectiveness or duration of antibody-mediated immunity to guarantee the accuracy of an “immunity passport” or “risk-free certificate.”\\nThere is a concern, that people may assume they are immune to a second infection and ignore public health advice, increasing the risk of continued trasnmission [3]3https://www.who.int/news-room/commentaries/detail/immunity-passports-in-the-context-of-covid-19\\nImmunity: 1/2\"),\n",
       " Document(metadata={'source': 'Covid19.pdf', 'page': 10}, page_content=\"The picture can't be \\ndisplayed.\\nThe picture can't \\nbe displayed.\\nImmunity: 2/2\\nSource:ID card\\nImmunity\"),\n",
       " Document(metadata={'source': 'Covid19.pdf', 'page': 11}, page_content=\"The picture can't be \\ndisplayed.\\nThe picture can't \\nbe displayed.\\nTesting\\nNucleic Acid Amplification Tests (NAATs)are used to diagnose current infection (presence of virus) during the acute phase of disease. NAAT test time is between 13 minutes and 3 hours and require specific instrumentation. \\nAntibody detection tests detect IgG and IgM antibodies against the virus. Not useful for diagnosis as an antibody response is not detectable in the first week of illness. Test time is approximately 15 minutes and could be used to detect those who have had prior infection. Population-based serological studies are ongoing in 6 countries.\\nAntigen detection tests detect viral antigens and could be useful for diagnosis of acute infection. Test development is ongoing in many countries. Source:ID card\\nNo diagnostic tests are currently licenesd for COVID-19 except under emergency use regulations. All are under evaluation \\nTesting: 1/1\"),\n",
       " Document(metadata={'source': 'Covid19.pdf', 'page': 12}, page_content=\"The picture can't be \\ndisplayed.\\nThe picture can't \\nbe displayed.\\nTreatment\\nCurrently, there are no antiviral drugs licensed for treating COVID-19. Research is ongoing to determine if existing drugs can be re-purposed to effectively treat COVID-19\\nWHO is coordinating the large multi-country Solidarity Trialto evaluate four promising candidate drugs/regimens:\\nSource:ID card\\nTreatment: 1/1\"),\n",
       " Document(metadata={'source': 'Covid19.pdf', 'page': 13}, page_content=\"The picture can't be \\ndisplayed.\\nThe picture can't \\nbe displayed.\\nPersonal measures\\nHand and respiratory hygiene is important at ALL times and is the best way to protect yourself and others\\nWhen possible maintain at least 1 meter distance between yourself and others.  Some infected persons may not be exhibiting symptoms or their symptoms may be mild so maintaining a physical distance with everyone is important if you are in an area where COVID-19 is circulating [4]\\n4https://www.who.int/emergencies/diseases/novel-coronavirus-2019/question-and-answers-hub/q-a-detail/q-a-coronaviruses\\nPersonal measures: 1/1\"),\n",
       " Document(metadata={'source': 'Covid19.pdf', 'page': 14}, page_content=\"The picture can't be \\ndisplayed.\\nThe picture can't \\nbe displayed.\\nPublic health measuresQuarantinemeans restricting activities or separating people who are not ill but may have been exposed to COVID-19. The goal is to prevent the spread of disease if or when people develop symptoms [5]Isolationmeans separating people who are ill with symptoms of COVID-19 and may be infectious to prevent the spread of the disease.Physical distancingmeans being physically apart. WHO recommends keeping at least 1-metre distance from others. This is a general measure that everyone should take even if they are well.Contact tracinghelps to identifyindividuals who may have been exposed to COVID-19 in order to quickly isolate them. \\n5https://www.who.int/emergencies/diseases/novel-coronavirus-2019/question-and-answers-hub/q-a-detail/q-a-coronavirusesPublic health measures: 1/1\"),\n",
       " Document(metadata={'source': 'Covid19.pdf', 'page': 15}, page_content=\"The picture can't be \\ndisplayed.\\nThe picture can't \\nbe displayed.\\nSocial and economic impact\\nThe COVID-19 pandemic and the assoicated economic crisis poses huge global and local challenges \\nThe health, social and economic impact has affected all segments of the population but is particularly detrimental to social groups in vulnerable situations including; people living in poverty, older persons, persons with disabilities, youth, and indigenous peoples [6]. \\nEpidemics and economic crises have a disproportionate impact on these vulnerable groups, which can trigger worsening inequality and poverty\\nThe global crises requires coordination, solidarity, and effective socio-economic and public health policy6https://www.un.org/development/desa/dspd/2020/04/social-impact-of-covid-19/\\nSocial and economic impact: 1/1\"),\n",
       " Document(metadata={'source': 'Covid19.pdf', 'page': 16}, page_content=\"The picture can't be \\ndisplayed.\\nThe picture can't \\nbe displayed.\\nInformation resourcesWHO WhatsApp messaging serviceReceive the latest news and information on COVID-19. To subscribe:text 'hi' to +41 79 893 1892New EPI-WIN websiteAccess to timely, accurate, and easy-to-understand advice and information from trusted sourceswww.who.int/epi-winOther Chat Bot Links:ViberFacebook Messenger\\n\"),\n",
       " Document(metadata={'source': 'Covid19.pdf', 'page': 17}, page_content=\"The picture can't be \\ndisplayed.\\nThe picture can't \\nbe displayed.\\n\")]"
      ]
     },
     "execution_count": 3,
     "metadata": {},
     "output_type": "execute_result"
    }
   ],
   "source": [
    "## reading a pdf file\n",
    "\n",
    "from langchain_community.document_loaders import PyPDFLoader\n",
    "loader=PyPDFLoader('Covid19.pdf')\n",
    "docs=loader.load()\n",
    "docs"
   ]
  },
  {
   "cell_type": "markdown",
   "metadata": {},
   "source": [
    "### how to recursively split text by characters"
   ]
  },
  {
   "cell_type": "code",
   "execution_count": 2,
   "metadata": {},
   "outputs": [
    {
     "data": {
      "text/plain": [
       "[Document(metadata={'source': 'Covid19.pdf', 'page': 0}, page_content=\"The picture can't be \\ndisplayed.\\nThe picture can't \\nbe displayed.\\nWhat is COVID-19•COVID-19 is the infectious disease caused by the most recently discovered coronavirus1\\n•This new virus and disease were unknown before the outbreak began in Wuhan, China, in December 2019•COVID-19 is now a pandemic affecting many countries globally\\n1https://www.who.int/emergencies/diseases/novel-coronavirus-2019/question-and-answers-hub/q-a-detail/q-a-coronaviruses\"),\n",
       " Document(metadata={'source': 'Covid19.pdf', 'page': 1}, page_content=\"The picture can't be \\ndisplayed.\\nThe picture can't \\nbe displayed.\\nImmunityPersonal measures \\nDisease specificationsTesting \\nTransmissionRisk groups Treatment Social & economicimpact\\nContents\\nThe \\npictur\\ne \\ncan't \\nbe \\ndispla\\nyed.\\nThe \\npict\\nure \\ncan'\\nt be \\ndisp\\nlaye\\nd.\\nThe \\npict\\nure \\ncan'\\nt be \\ndisp\\nlaye\\nd.\\nThe \\npict\\nure \\ncan'\\nt be \\ndisp\\nlaye\\nd.\\nTh\\ne \\npic\\ntur\\ne \\nca\\nn't \\nbe \\ndis\\npl\\nay\\ned\\n.\\nThe \\npictu\\nre \\ncan't \\nbe \\ndispl\\nayed\\n.\\nThe \\npictu\\nre \\ncan't \\nbe \\ndispl\\nayed\\n.\\nThe \\npict\\nure \\ncan'\\nt be \\ndisp\"),\n",
       " Document(metadata={'source': 'Covid19.pdf', 'page': 1}, page_content=\"be \\ndispl\\nayed\\n.\\nThe \\npict\\nure \\ncan'\\nt be \\ndisp\\nlaye\\nd.\\nThe \\npict\\nure \\ncan'\\nt be \\ndisp\\nlaye\\nd.\\nSuper Spreading EventsOrigin of the virus \\nSymptoms Public health measures \\nTh\\ne \\npi\\nct\\nur\\ne \\nca\\nn't \\nbe \\ndi\\nsp\\nla\\nye\\nd.\"),\n",
       " Document(metadata={'source': 'Covid19.pdf', 'page': 2}, page_content=\"The picture can't be \\ndisplayed.\\nThe picture can't \\nbe displayed.\\nOrigin of the virus\\nThe source is most likely a virus spillover from an intermediary animal host into human populations[2]\\nThe first known human case had onset of symptoms from 1st December and has not been linked to the suspected market in Wuhan, China. Cases may have occurred as far back as mid-November or earlier.\"),\n",
       " Document(metadata={'source': 'Covid19.pdf', 'page': 2}, page_content='Environmental samples taken in the market were positive for the virus, concentrated in the area where wild and farmed animal trade was present\\nThe market could be the origin of the virus or played a role as an amplifying setting for the initial spread\\n2https://doi.org/10.1016/S0140-6736(20)30251-8\\nOrigin of the virus: 1/1'),\n",
       " Document(metadata={'source': 'Covid19.pdf', 'page': 3}, page_content=\"The picture can't be \\ndisplayed.\\nThe picture can't \\nbe displayed.\\nSymptoms \\nSymptoms: 1/1\"),\n",
       " Document(metadata={'source': 'Covid19.pdf', 'page': 4}, page_content=\"The picture can't be \\ndisplayed.\\nThe picture can't \\nbe displayed.\\nTransmission \\nTransmission: 1/2\\nCOVID-19 is spread primarily from person to person through small droplets from the nose or mouth, expelled when a person with COVID-19 coughs or sneezes. People can catch COVID-19 if they breathe in these droplets, or by touching objects or surfaces where the droplets have landed, then their face.\"),\n",
       " Document(metadata={'source': 'Covid19.pdf', 'page': 4}, page_content='The time between infection and first symptoms (incubation period) ranges from 1 to 14 days, with an average of 5 to 6 days. More than 97% of people experience symptoms within 14 days. \\nSource:ID card'),\n",
       " Document(metadata={'source': 'Covid19.pdf', 'page': 5}, page_content=\"The picture can't be \\ndisplayed.\\nThe picture can't \\nbe displayed.\\nTransmission\\nTransmission: 2/2\\nActive viral replication occurs in the upper respiratory tract and lungs. Early studies indicate that the virus replicates in the gastrointestinal tract but faecal-oral transmission has not been confirmed \\nPeak viral shedding seems to occur at the time of symptom onset and declines thereafter\"),\n",
       " Document(metadata={'source': 'Covid19.pdf', 'page': 5}, page_content='Pre-symptomatic transmission is likely to occur. However, the absence of a cough (a key mechanism for viral expulsion) may limit transmission.Source:ID card\\nViral shedding'),\n",
       " Document(metadata={'source': 'Covid19.pdf', 'page': 6}, page_content=\"The picture can't be \\ndisplayed.\\nThe picture can't \\nbe displayed.\\nSuper-spreading events\\nMass-gatherings\\nAgeing population\\nDisplaced populations\\nInternational exposure\\nDensity of urban areas\\nWeak public health systems\\nLack of government transparency\\nLack of press freedom\\nSuper-spreading events occur with a single person transmits the virus to an unusually large number of people. Aggravating situations that may contribute to a super-spreading event include:\\nSuper-spreading events:1/1\"),\n",
       " Document(metadata={'source': 'Covid19.pdf', 'page': 7}, page_content=\"The picture can't be \\ndisplayed.\\nThe picture can't \\nbe displayed.\\nDisease specifications: reproductive rate, severity\\nBasic Reproductive Rate (R0) is the averagenumber of people infected by one personin a susceptible population. R0 for COVID-19 is estimated to be between 2 and 4 \\nClinical Onset Interval is the time between onset of symptomsin successive cases in a chain of transmission.  In most studies, the average time is between 4 and 5 days\"),\n",
       " Document(metadata={'source': 'Covid19.pdf', 'page': 7}, page_content='Case Fatality Ratio (CFR)is the proportion of episodes of illness that are fatal. The global crude CFR is 7% (Dec 2019-May 2020)\\nSource:ID card \\nDisease specifications: 1/1'),\n",
       " Document(metadata={'source': 'Covid19.pdf', 'page': 8}, page_content=\"The picture can't be \\ndisplayed.\\nThe picture can't \\nbe displayed.\\nRisk groups\\nRisk of severe disease increases with ageand in those with underlying medical conditionssuch as hypertension, diabetes, cardiovascular disease, chronic respiratory disease & cancer\\nContact studies indicate children and young adultsdo become infected, andcan transmit infection. However, children rarely progress to serious illness\\nLOW RISKHIGH RISK\\nRisk groups: 1/1\"),\n",
       " Document(metadata={'source': 'Covid19.pdf', 'page': 9}, page_content=\"The picture can't be \\ndisplayed.\\nThe picture can't \\nbe displayed.\\nImmunityShort-term: \\nAntibodies to COVID-19 (both IgG and IgM) appear 6 to 12 days after symptom onset, after which there is a slow, steady decline in viral load \\nPatients may still be infectious after they improve clinically. This has implications for infection, prevention and control in healthcare facilities and hospital discharges. Some patients may require further home isolation after being disharched from hospital.Long-term:\"),\n",
       " Document(metadata={'source': 'Covid19.pdf', 'page': 9}, page_content='Currently, there is not enough evidence about the effectiveness or duration of antibody-mediated immunity to guarantee the accuracy of an “immunity passport” or “risk-free certificate.”\\nThere is a concern, that people may assume they are immune to a second infection and ignore public health advice, increasing the risk of continued trasnmission [3]3https://www.who.int/news-room/commentaries/detail/immunity-passports-in-the-context-of-covid-19\\nImmunity: 1/2'),\n",
       " Document(metadata={'source': 'Covid19.pdf', 'page': 10}, page_content=\"The picture can't be \\ndisplayed.\\nThe picture can't \\nbe displayed.\\nImmunity: 2/2\\nSource:ID card\\nImmunity\"),\n",
       " Document(metadata={'source': 'Covid19.pdf', 'page': 11}, page_content=\"The picture can't be \\ndisplayed.\\nThe picture can't \\nbe displayed.\\nTesting\\nNucleic Acid Amplification Tests (NAATs)are used to diagnose current infection (presence of virus) during the acute phase of disease. NAAT test time is between 13 minutes and 3 hours and require specific instrumentation.\"),\n",
       " Document(metadata={'source': 'Covid19.pdf', 'page': 11}, page_content='Antibody detection tests detect IgG and IgM antibodies against the virus. Not useful for diagnosis as an antibody response is not detectable in the first week of illness. Test time is approximately 15 minutes and could be used to detect those who have had prior infection. Population-based serological studies are ongoing in 6 countries.\\nAntigen detection tests detect viral antigens and could be useful for diagnosis of acute infection. Test development is ongoing in many countries. Source:ID card'),\n",
       " Document(metadata={'source': 'Covid19.pdf', 'page': 11}, page_content='No diagnostic tests are currently licenesd for COVID-19 except under emergency use regulations. All are under evaluation \\nTesting: 1/1'),\n",
       " Document(metadata={'source': 'Covid19.pdf', 'page': 12}, page_content=\"The picture can't be \\ndisplayed.\\nThe picture can't \\nbe displayed.\\nTreatment\\nCurrently, there are no antiviral drugs licensed for treating COVID-19. Research is ongoing to determine if existing drugs can be re-purposed to effectively treat COVID-19\\nWHO is coordinating the large multi-country Solidarity Trialto evaluate four promising candidate drugs/regimens:\\nSource:ID card\\nTreatment: 1/1\"),\n",
       " Document(metadata={'source': 'Covid19.pdf', 'page': 13}, page_content=\"The picture can't be \\ndisplayed.\\nThe picture can't \\nbe displayed.\\nPersonal measures\\nHand and respiratory hygiene is important at ALL times and is the best way to protect yourself and others\\nWhen possible maintain at least 1 meter distance between yourself and others.  Some infected persons may not be exhibiting symptoms or their symptoms may be mild so maintaining a physical distance with everyone is important if you are in an area where COVID-19 is circulating [4]\"),\n",
       " Document(metadata={'source': 'Covid19.pdf', 'page': 13}, page_content='4https://www.who.int/emergencies/diseases/novel-coronavirus-2019/question-and-answers-hub/q-a-detail/q-a-coronaviruses\\nPersonal measures: 1/1'),\n",
       " Document(metadata={'source': 'Covid19.pdf', 'page': 14}, page_content=\"The picture can't be \\ndisplayed.\\nThe picture can't \\nbe displayed.\"),\n",
       " Document(metadata={'source': 'Covid19.pdf', 'page': 14}, page_content='Public health measuresQuarantinemeans restricting activities or separating people who are not ill but may have been exposed to COVID-19. The goal is to prevent the spread of disease if or when people develop symptoms [5]Isolationmeans separating people who are ill with symptoms of COVID-19 and may be infectious to prevent the spread of the disease.Physical distancingmeans being physically apart. WHO recommends keeping at least 1-metre distance from others. This is a general measure that'),\n",
       " Document(metadata={'source': 'Covid19.pdf', 'page': 14}, page_content='from others. This is a general measure that everyone should take even if they are well.Contact tracinghelps to identifyindividuals who may have been exposed to COVID-19 in order to quickly isolate them.'),\n",
       " Document(metadata={'source': 'Covid19.pdf', 'page': 14}, page_content='5https://www.who.int/emergencies/diseases/novel-coronavirus-2019/question-and-answers-hub/q-a-detail/q-a-coronavirusesPublic health measures: 1/1'),\n",
       " Document(metadata={'source': 'Covid19.pdf', 'page': 15}, page_content=\"The picture can't be \\ndisplayed.\\nThe picture can't \\nbe displayed.\\nSocial and economic impact\\nThe COVID-19 pandemic and the assoicated economic crisis poses huge global and local challenges \\nThe health, social and economic impact has affected all segments of the population but is particularly detrimental to social groups in vulnerable situations including; people living in poverty, older persons, persons with disabilities, youth, and indigenous peoples [6].\"),\n",
       " Document(metadata={'source': 'Covid19.pdf', 'page': 15}, page_content='Epidemics and economic crises have a disproportionate impact on these vulnerable groups, which can trigger worsening inequality and poverty\\nThe global crises requires coordination, solidarity, and effective socio-economic and public health policy6https://www.un.org/development/desa/dspd/2020/04/social-impact-of-covid-19/\\nSocial and economic impact: 1/1'),\n",
       " Document(metadata={'source': 'Covid19.pdf', 'page': 16}, page_content=\"The picture can't be \\ndisplayed.\\nThe picture can't \\nbe displayed.\\nInformation resourcesWHO WhatsApp messaging serviceReceive the latest news and information on COVID-19. To subscribe:text 'hi' to +41 79 893 1892New EPI-WIN websiteAccess to timely, accurate, and easy-to-understand advice and information from trusted sourceswww.who.int/epi-winOther Chat Bot Links:ViberFacebook Messenger\"),\n",
       " Document(metadata={'source': 'Covid19.pdf', 'page': 17}, page_content=\"The picture can't be \\ndisplayed.\\nThe picture can't \\nbe displayed.\")]"
      ]
     },
     "execution_count": 2,
     "metadata": {},
     "output_type": "execute_result"
    }
   ],
   "source": [
    "from langchain_text_splitters import RecursiveCharacterTextSplitter\n",
    "text_splitter=RecursiveCharacterTextSplitter(chunk_size=500,chunk_overlap=50)\n",
    "final_documents=text_splitter.split_documents(docs)\n",
    "final_documents\n"
   ]
  },
  {
   "cell_type": "code",
   "execution_count": 3,
   "metadata": {},
   "outputs": [
    {
     "name": "stdout",
     "output_type": "stream",
     "text": [
      "page_content='The picture can't be \n",
      "displayed.\n",
      "The picture can't \n",
      "be displayed.\n",
      "What is COVID-19•COVID-19 is the infectious disease caused by the most recently discovered coronavirus1\n",
      "•This new virus and disease were unknown before the outbreak began in Wuhan, China, in December 2019•COVID-19 is now a pandemic affecting many countries globally\n",
      "1https://www.who.int/emergencies/diseases/novel-coronavirus-2019/question-and-answers-hub/q-a-detail/q-a-coronaviruses' metadata={'source': 'Covid19.pdf', 'page': 0}\n",
      "page_content='The picture can't be \n",
      "displayed.\n",
      "The picture can't \n",
      "be displayed.\n",
      "ImmunityPersonal measures \n",
      "Disease specificationsTesting \n",
      "TransmissionRisk groups Treatment Social & economicimpact\n",
      "Contents\n",
      "The \n",
      "pictur\n",
      "e \n",
      "can't \n",
      "be \n",
      "displa\n",
      "yed.\n",
      "The \n",
      "pict\n",
      "ure \n",
      "can'\n",
      "t be \n",
      "disp\n",
      "laye\n",
      "d.\n",
      "The \n",
      "pict\n",
      "ure \n",
      "can'\n",
      "t be \n",
      "disp\n",
      "laye\n",
      "d.\n",
      "The \n",
      "pict\n",
      "ure \n",
      "can'\n",
      "t be \n",
      "disp\n",
      "laye\n",
      "d.\n",
      "Th\n",
      "e \n",
      "pic\n",
      "tur\n",
      "e \n",
      "ca\n",
      "n't \n",
      "be \n",
      "dis\n",
      "pl\n",
      "ay\n",
      "ed\n",
      ".\n",
      "The \n",
      "pictu\n",
      "re \n",
      "can't \n",
      "be \n",
      "displ\n",
      "ayed\n",
      ".\n",
      "The \n",
      "pictu\n",
      "re \n",
      "can't \n",
      "be \n",
      "displ\n",
      "ayed\n",
      ".\n",
      "The \n",
      "pict\n",
      "ure \n",
      "can'\n",
      "t be \n",
      "disp' metadata={'source': 'Covid19.pdf', 'page': 1}\n"
     ]
    }
   ],
   "source": [
    "print(final_documents[0])\n",
    "print(final_documents[1])"
   ]
  },
  {
   "cell_type": "markdown",
   "metadata": {},
   "source": [
    "### splitting a txt file"
   ]
  },
  {
   "cell_type": "code",
   "execution_count": 7,
   "metadata": {},
   "outputs": [
    {
     "name": "stdout",
     "output_type": "stream",
     "text": [
      "[Document(metadata={}, page_content='Example content:'), Document(metadata={}, page_content='The names \"John Doe\" for males, \"Jane Doe\" or \"Jane Roe\"'), Document(metadata={}, page_content='Doe\" or \"Jane Roe\" for females, or \"Jonnie Doe\" and \"Janie'), Document(metadata={}, page_content='Doe\" and \"Janie Doe\" for children, or just \"Doe\"'), Document(metadata={}, page_content='or just \"Doe\" non-gender-specifically are used as'), Document(metadata={}, page_content='are used as placeholder names for a party whose true'), Document(metadata={}, page_content='a party whose true identity is unknown or must be withheld'), Document(metadata={}, page_content='or must be withheld in a legal action, case, or discussion.'), Document(metadata={}, page_content='or discussion. The names are also used to refer to acorpse'), Document(metadata={}, page_content='to refer to acorpse or hospital patient whose identity is'), Document(metadata={}, page_content='whose identity is unknown. This practice is widely used in'), Document(metadata={}, page_content='is widely used in the United States and Canada, but is'), Document(metadata={}, page_content='and Canada, but is rarely used in other English-speaking'), Document(metadata={}, page_content='English-speaking countries including the United Kingdom'), Document(metadata={}, page_content='the United Kingdom itself, from where the use of \"John Doe\"'), Document(metadata={}, page_content='use of \"John Doe\" in a legal context originates. The names'), Document(metadata={}, page_content='The names Joe Bloggs or John Smith are used in the UK'), Document(metadata={}, page_content='are used in the UK instead, as well as in Australia and New'), Document(metadata={}, page_content='Australia and New Zealand.'), Document(metadata={}, page_content='John Doe is sometimes used to refer to a typical male in'), Document(metadata={}, page_content='a typical male in other contexts as well, in a similar'), Document(metadata={}, page_content='well, in a similar manner to John Q. Public, known in Great'), Document(metadata={}, page_content='known in Great Britain as Joe Public, John Smith or Joe'), Document(metadata={}, page_content='John Smith or Joe Bloggs. For example, the first name'), Document(metadata={}, page_content='the first name listed on a form is often John Doe, along'), Document(metadata={}, page_content='John Doe, along with a fictional address or other fictional'), Document(metadata={}, page_content='or other fictional information to provide an example of how'), Document(metadata={}, page_content='an example of how to fill in the form. The name is also'), Document(metadata={}, page_content='The name is also used frequently in popular culture, for'), Document(metadata={}, page_content='culture, for example in the Frank Capra film Meet John Doe.'), Document(metadata={}, page_content='film Meet John Doe. John Doe was also the name of a 2002'), Document(metadata={}, page_content='the name of a 2002 American television series.'), Document(metadata={}, page_content='Similarly, a child or baby whose identity is unknown may be'), Document(metadata={}, page_content='is unknown may be referred to as Baby Doe. A notorious'), Document(metadata={}, page_content='Doe. A notorious murder case in Kansas City, Missouri,'), Document(metadata={}, page_content='City, Missouri, referred to the baby victim as Precious'), Document(metadata={}, page_content='victim as Precious Doe. Other unidentified female murder'), Document(metadata={}, page_content='female murder victims are Cali Doe and Princess Doe.'), Document(metadata={}, page_content='and Princess Doe. Additional persons may be called James'), Document(metadata={}, page_content='may be called James Doe, Judy Doe, etc. However, to avoid'), Document(metadata={}, page_content='However, to avoid possible confusion, if two anonymous or'), Document(metadata={}, page_content='if two anonymous or unknown parties are cited in a specific'), Document(metadata={}, page_content='cited in a specific case or action, the surnames Doe and'), Document(metadata={}, page_content='surnames Doe and Roe may be used simultaneously; for'), Document(metadata={}, page_content='simultaneously; for example, \"John Doe v. Jane Roe\". If'), Document(metadata={}, page_content='v. Jane Roe\". If several anonymous parties are referenced,'), Document(metadata={}, page_content='are referenced, they may simply be labelled John Doe #1,'), Document(metadata={}, page_content='John Doe #1, John Doe #2, etc. (the U.S. Operation Delego'), Document(metadata={}, page_content='Operation Delego cited 21 (numbered) \"John Doe\"s) or'), Document(metadata={}, page_content='\"John Doe\"s) or labelled with other variants of Doe / Roe /'), Document(metadata={}, page_content='of Doe / Roe / Poe / etc. Other early alternatives such as'), Document(metadata={}, page_content='such as John Stiles and Richard Miles are now rarely used,'), Document(metadata={}, page_content='now rarely used, and Mary Major has been used in some'), Document(metadata={}, page_content='been used in some American federal cases.')]\n"
     ]
    }
   ],
   "source": [
    "speech=\"\"\n",
    "with open('speech.txt') as f:\n",
    "    speech=f.read()\n",
    "\n",
    "\n",
    "text_splitter=RecursiveCharacterTextSplitter(chunk_size=60,chunk_overlap=20)\n",
    "text=text_splitter.create_documents([speech])\n",
    "print(text)"
   ]
  },
  {
   "cell_type": "code",
   "execution_count": null,
   "metadata": {},
   "outputs": [],
   "source": []
  }
 ],
 "metadata": {
  "kernelspec": {
   "display_name": "langchain",
   "language": "python",
   "name": "python3"
  },
  "language_info": {
   "codemirror_mode": {
    "name": "ipython",
    "version": 3
   },
   "file_extension": ".py",
   "mimetype": "text/x-python",
   "name": "python",
   "nbconvert_exporter": "python",
   "pygments_lexer": "ipython3",
   "version": "3.9.10"
  }
 },
 "nbformat": 4,
 "nbformat_minor": 2
}
